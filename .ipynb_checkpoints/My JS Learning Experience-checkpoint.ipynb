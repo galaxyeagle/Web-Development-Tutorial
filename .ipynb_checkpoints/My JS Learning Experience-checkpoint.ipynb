{
 "cells": [
  {
   "cell_type": "markdown",
   "id": "d3c19ffe-0560-4d39-9bf4-990b0d59331a",
   "metadata": {},
   "source": [
    "# The beginnings\n",
    "Before even starting to learn JavaScript, I made my hands dirty with HTML and CSS. The best way to do that for a newbie is to head to [w3schools.com](https://www.w3schools.com/) and start practicing the basics in its online compiler. Once you gain a bit of confidence, go to any text editor in your PC/Mac (say Notepad) and start writing the same code there. Then save it as a filename.html file and double-click on the file in your folder to open it in your default browser (Chrome for me, but Firefox is also great). Later I switched to Sublime Text and then to VSCode as my code editor.\n",
    "After sufficient practice in HTML and CSS, I tried going over to JS. I followed a three-prong strategy. I started by trying JS code within `<script></script>` tag of my html file.Then I added my JS code in `separate .js file`. Finally I dispensed with html file altogether and ran my js code standalone using the `nodejs` runtime. Finally I switched to running my JS file using the `deno` runtime kernel within Jupyter notebook. The current notebook is created using the last method. I'll explain these things in detail later, so don't worry. Nobody will be left behind :) There are many cool projects in JS that I will be telling alongwith associated concepts. So its gonna be a great learning experience. But before that, lets understand a few concepts. \n",
    "NB. : The hyperlinked text matter you'll see all along is optional. You can click & read them for conceptual clarity if needed. Beginners should surely read them."
   ]
  },
  {
   "cell_type": "markdown",
   "id": "a0dd0bf4-191d-4c75-b573-417a287ac948",
   "metadata": {},
   "source": [
    "# Constructors\n",
    "JavaScript is an [Object-oriented language](https://www.geeksforgeeks.org/classes-objects-java/) based on Java, so the concept of constructors is pivotal for creating and initializing objects. Constructors can be defined in two primary ways: using constructor functions and class syntax.\n"
   ]
  },
  {
   "cell_type": "markdown",
   "id": "456faf54-387d-465a-8463-97fe14320de5",
   "metadata": {},
   "source": [
    "## 1. Constructor functions\n",
    "I hope you know what functions/methods are, how they are defined and how they are called. You must have seen the `\"new\"` operator during [function call/object creation](https://www.ibm.com/docs/en/i/7.3?topic=operators-function-call-expressions)? But have you ever seen the `\"this\"` keyword inside [function definition](https://www.ibm.com/docs/en/xl-c-and-cpp-aix/16.1?topic=functions-function-declarations-definitions)? Well such a weird function is called a \"constructor\" function. It is a special type of function that is used to create and initialize objects. By convention, constructor function names start with an uppercase letter. Consider the below example where `Person` is a constructor function that initializes `name` and `age` properties and the `greet` method, where `this` refers to the context of this constructor function that is assigned to any object created during function call:"
   ]
  },
  {
   "cell_type": "code",
   "execution_count": 23,
   "id": "11400eb9-a748-4336-9d6b-1e090e6ee96c",
   "metadata": {},
   "outputs": [
    {
     "name": "stdout",
     "output_type": "stream",
     "text": [
      "Hello, my name is Alice\n"
     ]
    }
   ],
   "source": [
    "function Person(x, y) {\n",
    "    this.name = x;\n",
    "    this.age = y;\n",
    "    this.greet = function() {\n",
    "        console.log(`Hello, my name is ${this.name}`);\n",
    "    };\n",
    "}\n",
    "\n",
    "// Creating instances\n",
    "const person1 = new Person(\"Alice\", 30);\n",
    "const person2 = new Person(\"Bob\", 25);\n",
    "\n",
    "person1.greet(); // Output to the console"
   ]
  },
  {
   "cell_type": "markdown",
   "id": "a766c1fc-b29f-4c3f-9481-63f1a5317cda",
   "metadata": {},
   "source": [
    "## 2. Constructor classes\n",
    "Refer to the below example:"
   ]
  },
  {
   "cell_type": "code",
   "execution_count": 19,
   "id": "141e48c1-f6eb-4092-9d51-21adb7b8070c",
   "metadata": {},
   "outputs": [
    {
     "name": "stdout",
     "output_type": "stream",
     "text": [
      "Hello, my name is Alice\n"
     ]
    }
   ],
   "source": [
    "class Person {\n",
    "    constructor(x, y) {\n",
    "        this.name = x;\n",
    "        this.age = y;\n",
    "    }\n",
    "\n",
    "    greet() {\n",
    "        console.log(`Hello, my name is ${this.name}`);\n",
    "    }\n",
    "}\n",
    "\n",
    "// Creating an instance\n",
    "const person1 = new Person(\"Alice\", 30);\n",
    "person1.greet(); // Output to the console\n"
   ]
  },
  {
   "cell_type": "markdown",
   "id": "8722d8be-f0cb-4870-8fdf-793791e2c338",
   "metadata": {},
   "source": [
    "Compare the `class-based syntax` for `constructer creation` vs the earlier `function-based syntax`. What's the difference you observe? Firstly there's no difference in the syntax for `creating an instance`. The difference is in `constructer creation`. A class as usual contains several methods defined on the prototype of the class. The attributes contexed by the `this` keyword are enclosed in a special `constructer` method whilst `greet` and any other method are defined without the `this` keyword, which means they are shared among all instances. This approach is more memory-efficient since there’s only one copy of the method. That's why developers often prefer class syntax for constructers."
   ]
  },
  {
   "cell_type": "markdown",
   "id": "4ff6d5b8-7b2c-4b22-823b-c6844c0909d7",
   "metadata": {},
   "source": [
    "# Document Object Model (DOM)\n",
    "\n",
    "DOM is the representation of the webpage as tree of elements, supported by modern HTML.\n",
    "\n",
    "<img src=\"https://upload.wikimedia.org/wikipedia/commons/5/5a/DOM-model.svg\" style= \"float:left; margin-right:20px\">\n",
    "\n",
    "As is evident from the figure, there is a hierarchy of `elements` starting from `document` to `<html>` to `<head>` and `<body>` to `<title>` and so on. The `document` element is like the entire DOM tree! The `<html>` element is the root element and is like the trunk of the tree. Other tags are like branches, and finally the text or img becomes the end leaf ! Each tag can have several HTML attributes as you already know. **The best thing is that each element/node is treated as an `object` making DOM a tree of objects** with each object denoting a different section of the webpage content. The JavaScript language, invented by Brendan Eich in 1995, allowed `manipulation` of this DOM tree *__(using both inbuilt and custom JS `methods` to <span id=\"domm\"></span> 1. fetch elements, 2. listen to events, 3. handle events)__*. This DOM manipulation  reflects the the user's ability to interact with the DOM tree objects and their attributes to change the content and structure of the document dynamically at the client-side using user-generated `events` like clicks, hovers, keyboard inputs, etc. This literally created a revolution enabling dynamic and interactive web experiences beyond static HTML. It started with responsive buttons and drop-down menus but quickly expanded to Google forms, interactive UI, browser-based games and data viz (eg. D3js). In 2009, Node.js library was invented by Ryan Dahl which allowed JavaScript to be used outside of the web browser to write server-side applications (backend dev), making it a popular choice for building desktop and mobile applications as well. I will later ride you through exciting projects about both creating client-side UI (using jQuery, Lodash, Bootstrap, Chart.js, etc.) as well as server-side apps (using React, Angular, Vue.js libraries). But lets strengthen our remaining fundamentals first.\n"
   ]
  },
  {
   "cell_type": "markdown",
   "id": "80afa139-9017-4b23-8150-5abfeaa0e3ea",
   "metadata": {},
   "source": [
    "# Functions in more detail\n",
    "Functions or methods are the bedrock of any OOP. We saw the greet() function and the Constructer functions previously. We also saw how both inbuilt and custom functions can help achieve the [trio of DOM manipulation](#domm). <a href=\"#domm\">trio</a>\n"
   ]
  },
  {
   "cell_type": "markdown",
   "id": "c5e6e50f-8490-40aa-85bd-32862ed48ce0",
   "metadata": {},
   "source": [
    "# Events and Event Delegation\n",
    "As a user, events like clicks are your triggers to manipulate the DOM."
   ]
  },
  {
   "cell_type": "markdown",
   "id": "cde0be9f-b32f-43b0-a65e-7759d14e9e24",
   "metadata": {},
   "source": []
  }
 ],
 "metadata": {
  "kernelspec": {
   "display_name": "Deno",
   "language": "typescript",
   "name": "deno"
  },
  "language_info": {
   "codemirror_mode": "typescript",
   "file_extension": ".ts",
   "mimetype": "text/x.typescript",
   "name": "typescript",
   "nbconvert_exporter": "script",
   "pygments_lexer": "typescript",
   "version": "5.6.2"
  }
 },
 "nbformat": 4,
 "nbformat_minor": 5
}
