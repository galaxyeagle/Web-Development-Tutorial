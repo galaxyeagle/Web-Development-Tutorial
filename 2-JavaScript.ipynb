{
 "cells": [
  {
   "cell_type": "markdown",
   "id": "d3c19ffe-0560-4d39-9bf4-990b0d59331a",
   "metadata": {},
   "source": [
    "# Introduction to JavaScript\n",
    "Before even starting to learn JavaScript, I made my hands dirty with HTML and CSS. The best way to do that for a newbie is to head to [w3schools.com](https://www.w3schools.com/) and start practicing the basics in its online compiler. Once you gain a bit of confidence, go to any text editor in your PC/Mac (say Notepad) and start writing the same code there. Then save it as a filename.html file and double-click on the file in your folder to open it in your default browser (Chrome for me, but Firefox is also great). Later I switched to Sublime Text and then to VSCode as my code editor.\n",
    "After sufficient practice in HTML and CSS, I tried going over to JS. There are many cool projects in JS that I will be telling alongwith associated concepts. So its gonna be a great learning experience.But before that, lets understand a few concepts. For a more holistic understanding of Javascript first as an OOP and then as an in-browser language, you can refer to [javascript.info](https://javascript.info/) later.   \n",
    "NB. : The hyperlinked text matter you'll see all along is optional. You can click & read them for conceptual clarity if needed. Beginners should surely read them."
   ]
  },
  {
   "cell_type": "markdown",
   "id": "a0dd0bf4-191d-4c75-b573-417a287ac948",
   "metadata": {},
   "source": [
    "# Constructors\n",
    "JavaScript is an [Object-oriented language](https://www.geeksforgeeks.org/classes-objects-java/) based on Java, so the concept of constructors is pivotal for creating and initializing objects. Constructors can be defined in two primary ways: using constructor functions and class syntax.\n"
   ]
  },
  {
   "cell_type": "markdown",
   "id": "456faf54-387d-465a-8463-97fe14320de5",
   "metadata": {},
   "source": [
    "## 1. Constructor functions\n",
    "I hope you know what functions/methods are, how they are defined and how they are called. You must have seen the `\"new\"` operator during [function call/object creation](https://www.ibm.com/docs/en/i/7.3?topic=operators-function-call-expressions)? But have you ever seen the `\"this\"` keyword inside [function definition](https://www.ibm.com/docs/en/xl-c-and-cpp-aix/16.1?topic=functions-function-declarations-definitions)? Well such a weird function is called a \"constructor\" function. It is a special type of function that is used to create and initialize objects. By convention, constructor function names start with an uppercase letter. Consider the below example where `Person` is a constructor function that initializes `name` and `age` properties and the `greet` method, where `this` refers to the context of this constructor function that is assigned to any object created during function call:"
   ]
  },
  {
   "cell_type": "code",
   "execution_count": 23,
   "id": "11400eb9-a748-4336-9d6b-1e090e6ee96c",
   "metadata": {},
   "outputs": [
    {
     "name": "stdout",
     "output_type": "stream",
     "text": [
      "Hello, my name is Alice\n"
     ]
    }
   ],
   "source": [
    "function Person(x, y) {\n",
    "    this.name = x;\n",
    "    this.age = y;\n",
    "    this.greet = function() {\n",
    "        console.log(`Hello, my name is ${this.name}`);\n",
    "    };\n",
    "}\n",
    "\n",
    "// Creating instances\n",
    "const person1 = new Person(\"Alice\", 30);\n",
    "const person2 = new Person(\"Bob\", 25);\n",
    "\n",
    "person1.greet(); // Output to the console"
   ]
  },
  {
   "cell_type": "markdown",
   "id": "a766c1fc-b29f-4c3f-9481-63f1a5317cda",
   "metadata": {},
   "source": [
    "## 2. Constructor classes\n",
    "Refer to the below example:"
   ]
  },
  {
   "cell_type": "code",
   "execution_count": 1,
   "id": "141e48c1-f6eb-4092-9d51-21adb7b8070c",
   "metadata": {},
   "outputs": [
    {
     "name": "stdout",
     "output_type": "stream",
     "text": [
      "Hello, my name is Alice\n"
     ]
    }
   ],
   "source": [
    "class Person {\n",
    "    constructor(x, y) {\n",
    "        this.name = x;\n",
    "        this.age = y;\n",
    "    }\n",
    "\n",
    "    greet() {\n",
    "        console.log(`Hello, my name is ${this.name}`);\n",
    "    }\n",
    "}\n",
    "\n",
    "// Creating an instance\n",
    "const person1 = new Person(\"Alice\", 30);\n",
    "person1.greet(); // Output to the console\n"
   ]
  },
  {
   "cell_type": "markdown",
   "id": "8722d8be-f0cb-4870-8fdf-793791e2c338",
   "metadata": {},
   "source": [
    "Compare the `class-based syntax` for `constructer creation` vs the earlier `function-based syntax`. What's the difference you observe? Firstly there's no difference in the syntax for `creating an instance`. The difference is in `constructer creation`. A class as usual contains several methods defined on the prototype of the class. The attributes contexed by the `this` keyword are enclosed in a special `constructer` method whilst `greet` and any other method are defined without the `this` keyword, which means they are shared among all instances. This approach is more memory-efficient since there’s only one copy of the method. That's why developers often prefer class syntax for constructers."
   ]
  },
  {
   "cell_type": "markdown",
   "id": "4ff6d5b8-7b2c-4b22-823b-c6844c0909d7",
   "metadata": {},
   "source": [
    "# Document Object Model (DOM)\n",
    "\n",
    "DOM is the representation of the webpage as tree of elements, supported by modern HTML.\n",
    "\n",
    "<img src=\"https://upload.wikimedia.org/wikipedia/commons/5/5a/DOM-model.svg\" style= \"float:left; margin-right:20px\">\n",
    "\n",
    "As is evident from the figure, there is a hierarchy of `elements` starting from `document` to `<html>` to `<head>` and `<body>` to `<title>` and so on. The `document` element is like the entire DOM tree! The `<html>` element is the root element and is like the trunk of the tree. Other tags are like branches, and finally the text or img becomes the end leaf ! Each tag can have several HTML attributes as you already know. **The best thing is that each element/node is treated as an `object` making DOM a tree of objects** with each object denoting a different section of the webpage content. The JavaScript language, invented by Brendan Eich in 1995, allowed `manipulation` of this DOM tree *__(using the trio of <a id=\"domm\"></a> 1. fetching elements, 2. listening to events, 3. handling events)__*. This DOM manipulation  reflects the the user's ability to interact with the DOM tree objects and their attributes & methods to change the content and structure of the document dynamically at the client-side using user-generated `events` like clicks, hovers, keyboard inputs, etc. This literally created a revolution enabling dynamic and interactive web experiences beyond static HTML. It started with responsive buttons and drop-down menus but quickly expanded to Google forms, interactive UI, browser-based games and data viz (eg. D3js). In 2009, Node.js library was invented by Ryan Dahl which allowed JavaScript to be used outside of the web browser to write server-side applications (backend dev), making it a popular choice for building desktop and mobile applications as well. I will later ride you through exciting projects about both creating client-side UI (using jQuery, Lodash, Bootstrap, Chart.js, etc.) as well as server-side apps (using React, Angular, Vue.js libraries). But lets strengthen our remaining fundamentals first.  \n",
    "Lets understand how the above trio of DOM Manipulation can be achieved. We now know that DOM is a tree of objects and objects are instances of classes. JavaScript has an inbuilt DOM API which has several useful classes. Each class has useful attributes and methods which you can invoke to manipulate the behaviour of DOM objects. DOM objects are automatically inherited from their parent Class without requiring any instantiation by you. Cool, isn't it? So lets look at some of these useful classes and their main attributes & functions in the next section."
   ]
  },
  {
   "cell_type": "markdown",
   "id": "10cd449b",
   "metadata": {},
   "source": [
    "# DOM Classes\n",
    "The most common examples are:"
   ]
  },
  {
   "cell_type": "markdown",
   "id": "647fa192",
   "metadata": {},
   "source": [
    "#### 1. Document\n",
    " Represents the entire HTML document. Key Methods include getElementById(), querySelector(), createElement(), etc.\n",
    "#### 2. Element\n",
    " Represents an individual element in the document (e.g., `<div>, <p>, <a>`). It provides properties and methods to manipulate the attributes, styles, and content of the elements. Key Methods: setAttribute(), getAttribute(), classList.add(), addEventListener(), etc. and Key Attributes: innerhtml, style, etc.\n",
    "#### 3. Node\n",
    " The base class for all objects in the DOM tree. It represents a single node in the document tree, which can be an element, text, or comment. Key Properties: childNodes, parentNode, nextSibling, etc.\n",
    "#### 4. Event\n",
    " Represents events that occur in the DOM, such as user interactions (eg. click, keydown, hover) or changes in state. It provides properties and methods to handle event-related data. Key Properties: type, target, currentTarget, etc.\n",
    "#### 5. Window\n",
    "Represents the browser window that contains the DOM document. It provides methods to control the browser environment and access global variables. Key Methods: alert(), setTimeout(), open(), etc."
   ]
  },
  {
   "cell_type": "markdown",
   "id": "451dea04",
   "metadata": {},
   "source": [
    "## Examples of above classes in action !\n",
    "### Example 1 : Accessing an Element by ID\n"
   ]
  },
  {
   "cell_type": "code",
   "execution_count": 21,
   "id": "89f8659c",
   "metadata": {},
   "outputs": [
    {
     "data": {
      "text/html": [
       "\n",
       "\n",
       "    <!DOCTYPE html>\n",
       "    <html lang=\"en\">\n",
       "    <head>\n",
       "        <meta charset=\"UTF-8\">\n",
       "        <meta name=\"viewport\" content=\"width=device-width, initial-scale=1.0\">\n",
       "        <title>Document Example</title>\n",
       "    </head>\n",
       "    <body>\n",
       "        <div id=\"myDiv\">Hello, World!</div>\n",
       "        <button id=\"changeTextButton\">Change Text</button>\n",
       "\n",
       "        <script>\n",
       "            document.getElementById(\"changeTextButton\").addEventListener(\"click\", function() {\n",
       "                const myDiv = document.getElementById(\"myDiv\");\n",
       "                myDiv.textContent = \"Text Changed!\";\n",
       "            });\n",
       "        </script>\n",
       "    </body>\n",
       "    </html>\n",
       "\n"
      ]
     },
     "execution_count": 21,
     "metadata": {},
     "output_type": "execute_result"
    }
   ],
   "source": [
    "import { html } from \"https://deno.land/x/display/mod.ts\";\n",
    "\n",
    "html`\n",
    "\n",
    "    <!DOCTYPE html>\n",
    "    <html lang=\"en\">\n",
    "    <head>\n",
    "        <meta charset=\"UTF-8\">\n",
    "        <meta name=\"viewport\" content=\"width=device-width, initial-scale=1.0\">\n",
    "        <title>Document Example</title>\n",
    "    </head>\n",
    "    <body>\n",
    "        <div id=\"myDiv\">Hello, World!</div>\n",
    "        <button id=\"changeTextButton\">Change Text</button>\n",
    "\n",
    "        <script>\n",
    "            document.getElementById(\"changeTextButton\").addEventListener(\"click\", function() {\n",
    "                const myDiv = document.getElementById(\"myDiv\");\n",
    "                myDiv.textContent = \"Text Changed!\";\n",
    "            });\n",
    "        </script>\n",
    "    </body>\n",
    "    </html>\n",
    "\n",
    "`;"
   ]
  },
  {
   "cell_type": "markdown",
   "id": "1fef791f",
   "metadata": {},
   "source": [
    "### Explanation of Example 1\n",
    "In the first line of the above code, note that I import the `html` function from the [display.js](https://deno.land/x/display@v1.1.2) module of Deno imported from a URI. This is followed by plugging my html code within the `html` `` ` `` ...code... `` `; `` snippet. This is absolutely similar to the what the ipy3 kernel offers, i.e. `import html from IPython.display` and then `%%html` followed by your html code. This allows inline rendering of html content within Jupyter notebook.  \n",
    "\n",
    "Now `document.getElementbyID()` returns an `element` object on which `addEventListener` method can be used.  The 1st argument of the `addEventListener` method is the `event selector` which tells the nature of the event i.e. `click` in this case. The 2nd argument is the entire definition of an `anonymous` function (called `event handler`) which defines the `response to` this click event. Go through it and check the cell output and you'll understand.  \n",
    "\n",
    "NB. You can also use the more general `querySelector()` or the `querySelectorAll()` methods instead of the getElementbyID() or getElementsbyClassName() methods respectively. `querySelectorAll()` or `getElementsbyClassName()` returns a NodeList. This NodeList is like an array which serves as an `object` on which the [forEach() or map()](https://www.geeksforgeeks.org/difference-between-foreach-and-map-loop-in-javascript/) methods can be performed for element-wise operations. Both these methods take that element-wise operating function as its argument.  \n",
    "\n",
    "At this moment, I wanted to tell you one thing. The function definition   \n",
    "   \n",
    "    function() {\n",
    "    const myDiv = document.getElementById(\"myDiv\");\n",
    "    myDiv.textContent = \"Text Changed!\";\n",
    "    });\n",
    "   \n",
    "can be converted into a shorter [arrow function](https://www.youtube.com/watch?v=h33Srr5J9nY) syntax by :\n",
    "1. Removing the function keyword.\n",
    "2. Assigning the function to a variable.\n",
    "3. Adding the arrow => after the parameters.\n",
    "\n",
    "Then we get:\n",
    "\n",
    "        \n",
    "    const changeText = () => {\n",
    "    const myDiv = document.getElementById(\"myDiv\");\n",
    "    myDiv.textContent = \"Text Changed!\";\n",
    "    };\n",
    "\n",
    "        \n",
    "which is exactly the same.\n",
    "        "
   ]
  },
  {
   "cell_type": "markdown",
   "id": "4c03566b",
   "metadata": {},
   "source": [
    "### Example 2 : Handling Events"
   ]
  },
  {
   "cell_type": "code",
   "execution_count": 27,
   "id": "81a661c6",
   "metadata": {},
   "outputs": [
    {
     "data": {
      "text/html": [
       "\n",
       "<!DOCTYPE html>\n",
       "<html lang=\"en\">\n",
       "<head>\n",
       "    <meta charset=\"UTF-8\">\n",
       "    <meta name=\"viewport\" content=\"width=device-width, initial-scale=1.0\">\n",
       "    <title>Event Example</title>\n",
       "</head>\n",
       "<body>\n",
       "    <button id=\"clickMeButton\">Click Me!</button>\n",
       "\n",
       "    <script>\n",
       "        document.getElementById(\"clickMeButton\").addEventListener(\"click\", function(event) {\n",
       "            alert(`Button clicked! Event type: ${event.type}, Target: ${event.target.id}`);\n",
       "            console.log(event.target);\n",
       "        });\n",
       "    </script>\n",
       "</body>\n",
       "</html>\n"
      ]
     },
     "execution_count": 27,
     "metadata": {},
     "output_type": "execute_result"
    }
   ],
   "source": [
    "import { html } from \"https://deno.land/x/display/mod.ts\";\n",
    "\n",
    "html`\n",
    "<!DOCTYPE html>\n",
    "<html lang=\"en\">\n",
    "<head>\n",
    "    <meta charset=\"UTF-8\">\n",
    "    <meta name=\"viewport\" content=\"width=device-width, initial-scale=1.0\">\n",
    "    <title>Event Example</title>\n",
    "</head>\n",
    "<body>\n",
    "    <button id=\"clickMeButton\">Click Me!</button>\n",
    "\n",
    "    <script>\n",
    "        document.getElementById(\"clickMeButton\").addEventListener(\"click\", function(event) {\n",
    "            alert(\\`Button clicked! Event type: \\${event.type}, Target: \\${event.target.id}\\`);\n",
    "            console.log(event.target);\n",
    "        });\n",
    "    </script>\n",
    "</body>\n",
    "</html>\n",
    "`;\n"
   ]
  },
  {
   "cell_type": "markdown",
   "id": "ef60448e",
   "metadata": {},
   "source": [
    "### Explanation of Example 2\n",
    "Here we pass the event handler function as the 2nd argument of the addEventListener method of the `Element` class. However if you're sure the event is gonna be `click` (eg. when its a button, then you're sure !), then you can use the `onclick` attribute/property of the `Element`class to automatically assign an event/click handler. So  lets say `const button1 = document.getElementById(\"button1\");` accesses a button element, then  \n",
    "\n",
    "    button1.addEventListener('click', (event) =>{\n",
    "    console.log(\"Event Target:\", event.target);\n",
    "    })\n",
    "        \n",
    "\n",
    "is the same as \n",
    "\n",
    "    button1.onclick = (event) => {\n",
    "    console.log(\"Event Target:\", event.target);\n",
    "    };\n",
    "\n",
    "The use of addEventListener() is generally preferred for more complex applications due to its flexibility in handling multiple events on the same element without conflicts.  \n",
    "*Another fun fact*: Since the above event handler function has only one parameter namely `event` or `e`, you can dispense with the parenthesis and simply write `event=>{....}` !\n",
    "\n",
    "Additionally, pure HTML also provides event selectors like onclick, onmouseover, onhover, onkeypress, etc. in the form of attributes, eg.  \n",
    "`<button onclick=\"myFunction()\">Click me</button>` "
   ]
  },
  {
   "cell_type": "markdown",
   "id": "2d63f900",
   "metadata": {},
   "source": [
    "### Example 3: Manipulating Classes\n",
    "\n",
    "Methods like `element.classList.add()` and `element.classList.remove()` can dynamically add and remove classes respectively from an HTML element. Such classes may be linked to different CSS properties. This allows us to create cool animations. Check out my simple box animation example [here](https://codepen.io/galaxyeagle/pen/VYZxayq). In this example, we `addEventListener` to the `keydown` and `keyup` events and if `event.code` matches KeyA it adds/removes our custom  .animation class to the box element. Note that the `transition` CSS property in the parent class allows us to put transition effects like delay for `all` or selected properties of the added class. Its `0.3s ease` in this case but you can tweak it and see !\n"
   ]
  },
  {
   "cell_type": "markdown",
   "id": "4f8f995b",
   "metadata": {},
   "source": [
    "# Build, Test & Run tools for you !\n",
    "\n",
    "By now you must have got the taste of JavaScript ! Before you get into more complex and fun projects, lets be clear about the different tools & environments you can work on. I'll share my own journey so that its not uncharted for you :) \n",
    "\n",
    "1. As I said in the beginning, I started simply with the Notepad. I created a single html file and put in all my CSS code within the `<style>` tag or the `style:` attribute of the concerned element, and all my JS code within a `<script>` tag. Then I double clicked my html file and it rendered in my default browser.  \n",
    "\n",
    "2. When CSS and JS code grew bulky, I created separate .html, .css and .js files in a folder and linked them in my html file (preferably within the `<head>` tag) using  \n",
    "`<link rel=\"stylesheet\" type=\"text/css\" href=\"styles.css\">` and  \n",
    "`<script src=\"script.js\"></script>` respectively. Then I ran the .html file as before.  \n",
    "\n",
    "3. Next I switched to an advanced editor. Instead of Notepad, I used Sublime Text. Its lightweight and here I can have `folder view` and also open a `termainal` with [Alt+1](https://www.geeksforgeeks.org/how-to-use-terminal-in-sublime-text-editor/). Language based color coding is also available. You can open your html file and right-click on the screen and click \"Open in Browser\".\n",
    "\n",
    "4. Next I switched to Visual Studio Code. I soon realised that its much powerful than Sublime. With the `Live Preview` extension, you can preview the main .html file of your project in real time within the editor itself (Ref. the extension documentation for guidance). You can also create very quick code snippets with the [Emmet toolkit](https://www.freecodecamp.org/news/write-html-css-faster-with-emmet-cheat-codes/).\n",
    "\n",
    "5. Other tools: I also tried online tools like [CodePen](https://codepen.io/) and [CodeSandbox](https://codesandbox.io/). If you want to get the exact VSCode experience online without downloading VSCode Desktop, you can try `Github Codespace` (has preinstalled Git) or `vscode.dev` which run on cloud-based virtual machines. You can create a Jupyter Notebook (either in VSCode, Jupyter lab or remote-hosted Juputer notebook using Anaconda) with the deno kernel and run JS there: infact that's how this notebook is created. You can also code and debug in the `DevTools` of your browser. Finally you can use a runtime like `nodejs` or `deno` to run your js code exclusively without any html file. `Devtools` and `nodejs` is actually quite important but a little more detailed. I'll take that them up later.\n"
   ]
  },
  {
   "cell_type": "markdown",
   "id": "65261c0e",
   "metadata": {},
   "source": []
  }
 ],
 "metadata": {
  "kernelspec": {
   "display_name": "Deno",
   "language": "typescript",
   "name": "deno"
  },
  "language_info": {
   "codemirror_mode": "typescript",
   "file_extension": ".ts",
   "mimetype": "text/x.typescript",
   "name": "typescript",
   "nbconvert_exporter": "script",
   "pygments_lexer": "typescript",
   "version": "5.6.2"
  }
 },
 "nbformat": 4,
 "nbformat_minor": 5
}
